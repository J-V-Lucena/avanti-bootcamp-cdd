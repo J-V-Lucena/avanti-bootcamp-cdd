{
 "cells": [
  {
   "cell_type": "markdown",
   "metadata": {},
   "source": [
    "# Análise exploratória de dados"
   ]
  },
  {
   "cell_type": "code",
   "execution_count": 1,
   "metadata": {
    "tags": []
   },
   "outputs": [],
   "source": [
    "import pandas as pd\n",
    "import seaborn as sns"
   ]
  },
  {
   "cell_type": "markdown",
   "metadata": {
    "tags": []
   },
   "source": [
    "## 1. Coleta de dados"
   ]
  },
  {
   "cell_type": "code",
   "execution_count": 2,
   "metadata": {
    "tags": []
   },
   "outputs": [],
   "source": [
    "df = sns.load_dataset(\"diamonds\")\n",
    "df.to_csv(\"../data/raw/data.csv\", index = False)"
   ]
  },
  {
   "cell_type": "markdown",
   "metadata": {
    "tags": []
   },
   "source": [
    "## 2. Dicionário de dados"
   ]
  },
  {
   "cell_type": "code",
   "execution_count": 3,
   "metadata": {
    "tags": []
   },
   "outputs": [
    {
     "data": {
      "text/html": [
       "<div>\n",
       "<style scoped>\n",
       "    .dataframe tbody tr th:only-of-type {\n",
       "        vertical-align: middle;\n",
       "    }\n",
       "\n",
       "    .dataframe tbody tr th {\n",
       "        vertical-align: top;\n",
       "    }\n",
       "\n",
       "    .dataframe thead th {\n",
       "        text-align: right;\n",
       "    }\n",
       "</style>\n",
       "<table border=\"1\" class=\"dataframe\">\n",
       "  <thead>\n",
       "    <tr style=\"text-align: right;\">\n",
       "      <th></th>\n",
       "      <th>variavel</th>\n",
       "      <th>descricao</th>\n",
       "      <th>tipo</th>\n",
       "      <th>subtipo</th>\n",
       "    </tr>\n",
       "  </thead>\n",
       "  <tbody>\n",
       "    <tr>\n",
       "      <th>0</th>\n",
       "      <td>carat</td>\n",
       "      <td>Peso do diamante em quilates</td>\n",
       "      <td>Quantitativa</td>\n",
       "      <td>Contínua</td>\n",
       "    </tr>\n",
       "    <tr>\n",
       "      <th>1</th>\n",
       "      <td>cut</td>\n",
       "      <td>Qualidade do corte do diamante</td>\n",
       "      <td>Qualitativa</td>\n",
       "      <td>Ordinal</td>\n",
       "    </tr>\n",
       "    <tr>\n",
       "      <th>2</th>\n",
       "      <td>color</td>\n",
       "      <td>Cor do diamante</td>\n",
       "      <td>Qualitativa</td>\n",
       "      <td>Ordinal</td>\n",
       "    </tr>\n",
       "    <tr>\n",
       "      <th>3</th>\n",
       "      <td>clarity</td>\n",
       "      <td>Medida da clareza do diamante</td>\n",
       "      <td>Qualitativa</td>\n",
       "      <td>Ordinal</td>\n",
       "    </tr>\n",
       "    <tr>\n",
       "      <th>4</th>\n",
       "      <td>depth</td>\n",
       "      <td>Profundidade total do diamante como proporção ...</td>\n",
       "      <td>Quantitativa</td>\n",
       "      <td>Contínua</td>\n",
       "    </tr>\n",
       "    <tr>\n",
       "      <th>5</th>\n",
       "      <td>table</td>\n",
       "      <td>Largura do topo do diamante em relação ao pont...</td>\n",
       "      <td>Quantitativa</td>\n",
       "      <td>Contínua</td>\n",
       "    </tr>\n",
       "    <tr>\n",
       "      <th>6</th>\n",
       "      <td>price</td>\n",
       "      <td>Preço do diamante em dólares americanos</td>\n",
       "      <td>Quantitativa</td>\n",
       "      <td>Contínua</td>\n",
       "    </tr>\n",
       "    <tr>\n",
       "      <th>7</th>\n",
       "      <td>x</td>\n",
       "      <td>Comprimento em milímetros</td>\n",
       "      <td>Quantitativa</td>\n",
       "      <td>Contínua</td>\n",
       "    </tr>\n",
       "    <tr>\n",
       "      <th>8</th>\n",
       "      <td>y</td>\n",
       "      <td>Largura em milímetros</td>\n",
       "      <td>Quantitativa</td>\n",
       "      <td>Contínua</td>\n",
       "    </tr>\n",
       "    <tr>\n",
       "      <th>9</th>\n",
       "      <td>z</td>\n",
       "      <td>Profundidade em milímetros</td>\n",
       "      <td>Quantitativa</td>\n",
       "      <td>Contínua</td>\n",
       "    </tr>\n",
       "  </tbody>\n",
       "</table>\n",
       "</div>"
      ],
      "text/plain": [
       "  variavel                                          descricao          tipo  \\\n",
       "0    carat                       Peso do diamante em quilates  Quantitativa   \n",
       "1      cut                     Qualidade do corte do diamante   Qualitativa   \n",
       "2    color                                    Cor do diamante   Qualitativa   \n",
       "3  clarity                      Medida da clareza do diamante   Qualitativa   \n",
       "4    depth  Profundidade total do diamante como proporção ...  Quantitativa   \n",
       "5    table  Largura do topo do diamante em relação ao pont...  Quantitativa   \n",
       "6    price            Preço do diamante em dólares americanos  Quantitativa   \n",
       "7        x                          Comprimento em milímetros  Quantitativa   \n",
       "8        y                              Largura em milímetros  Quantitativa   \n",
       "9        z                         Profundidade em milímetros  Quantitativa   \n",
       "\n",
       "    subtipo  \n",
       "0  Contínua  \n",
       "1   Ordinal  \n",
       "2   Ordinal  \n",
       "3   Ordinal  \n",
       "4  Contínua  \n",
       "5  Contínua  \n",
       "6  Contínua  \n",
       "7  Contínua  \n",
       "8  Contínua  \n",
       "9  Contínua  "
      ]
     },
     "execution_count": 3,
     "metadata": {},
     "output_type": "execute_result"
    }
   ],
   "source": [
    "dicionario = pd.DataFrame([\n",
    "    {\n",
    "        \"variavel\": \"carat\",\n",
    "        \"descricao\": \"Peso do diamante em quilates\",\n",
    "        \"tipo\": \"Quantitativa\",\n",
    "        \"subtipo\": \"Contínua\"\n",
    "    },{\n",
    "        \"variavel\": \"cut\",\n",
    "        \"descricao\": \"Qualidade do corte do diamante\",\n",
    "        \"tipo\": \"Qualitativa\",\n",
    "        \"subtipo\": \"Ordinal\"\n",
    "    },{\n",
    "        \"variavel\": \"color\",\n",
    "        \"descricao\": \"Cor do diamante\",\n",
    "        \"tipo\": \"Qualitativa\",\n",
    "        \"subtipo\": \"Ordinal\"\n",
    "    },{\n",
    "        \"variavel\": \"clarity\",\n",
    "        \"descricao\": \"Medida da clareza do diamante\",\n",
    "        \"tipo\": \"Qualitativa\",\n",
    "        \"subtipo\": \"Ordinal\"\n",
    "    },{\n",
    "        \"variavel\": \"depth\",\n",
    "        \"descricao\": \"Profundidade total do diamante como proporção da largura\",\n",
    "        \"tipo\": \"Quantitativa\",\n",
    "        \"subtipo\": \"Contínua\"\n",
    "    },{\n",
    "        \"variavel\": \"table\",\n",
    "        \"descricao\": \"Largura do topo do diamante em relação ao ponto mais largo\",\n",
    "        \"tipo\": \"Quantitativa\",\n",
    "        \"subtipo\": \"Contínua\"\n",
    "    },{\n",
    "        \"variavel\": \"price\",\n",
    "        \"descricao\": \"Preço do diamante em dólares americanos\",\n",
    "        \"tipo\": \"Quantitativa\",\n",
    "        \"subtipo\": \"Contínua\"\n",
    "    },{\n",
    "        \"variavel\": \"x\",\n",
    "        \"descricao\": \"Comprimento em milímetros\",\n",
    "        \"tipo\": \"Quantitativa\",\n",
    "        \"subtipo\": \"Contínua\"\n",
    "    },{\n",
    "        \"variavel\": \"y\",\n",
    "        \"descricao\": \"Largura em milímetros\",\n",
    "        \"tipo\": \"Quantitativa\",\n",
    "        \"subtipo\": \"Contínua\"\n",
    "    },{\n",
    "        \"variavel\": \"z\",\n",
    "        \"descricao\": \"Profundidade em milímetros\",\n",
    "        \"tipo\": \"Quantitativa\",\n",
    "        \"subtipo\": \"Contínua\"\n",
    "    }\n",
    "])\n",
    "\n",
    "dicionario"
   ]
  },
  {
   "cell_type": "code",
   "execution_count": 4,
   "metadata": {
    "tags": []
   },
   "outputs": [],
   "source": [
    "dicionario.to_csv(\"../data/external/dicionario.csv\", index = False)"
   ]
  }
 ],
 "metadata": {
  "kernelspec": {
   "display_name": "Python 3 (ipykernel)",
   "language": "python",
   "name": "python3"
  },
  "language_info": {
   "codemirror_mode": {
    "name": "ipython",
    "version": 3
   },
   "file_extension": ".py",
   "mimetype": "text/x-python",
   "name": "python",
   "nbconvert_exporter": "python",
   "pygments_lexer": "ipython3",
   "version": "3.10.12"
  },
  "vscode": {
   "interpreter": {
    "hash": "eb3c3305d8b111f0102f4f519c5f17abd113fe74db6752c355e994a9008815ef"
   }
  }
 },
 "nbformat": 4,
 "nbformat_minor": 4
}
